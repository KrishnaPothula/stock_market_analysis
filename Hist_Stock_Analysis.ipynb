{
  "nbformat": 4,
  "nbformat_minor": 0,
  "metadata": {
    "colab": {
      "provenance": [],
      "authorship_tag": "ABX9TyO3utm0ahvqphD/E56b8+/5",
      "include_colab_link": true
    },
    "kernelspec": {
      "name": "python3",
      "display_name": "Python 3"
    },
    "language_info": {
      "name": "python"
    }
  },
  "cells": [
    {
      "cell_type": "markdown",
      "metadata": {
        "id": "view-in-github",
        "colab_type": "text"
      },
      "source": [
        "<a href=\"https://colab.research.google.com/github/KrishnaPothula/stock_market_analysis/blob/main/Hist_Stock_Analysis.ipynb\" target=\"_parent\"><img src=\"https://colab.research.google.com/assets/colab-badge.svg\" alt=\"Open In Colab\"/></a>"
      ]
    },
    {
      "cell_type": "code",
      "execution_count": 2,
      "metadata": {
        "colab": {
          "base_uri": "https://localhost:8080/"
        },
        "id": "Hf58UeqKzYzx",
        "outputId": "e89d5530-6d3a-481e-8869-37439095b582"
      },
      "outputs": [
        {
          "output_type": "stream",
          "name": "stdout",
          "text": [
            "WIPRO.NS\n",
            "[*********************100%***********************]  1 of 1 completed\n",
            "Q1: Weak Buy (15, 13)\n",
            "Q2: Weak Sell (14, 14)\n",
            "Q3: Weak Sell (14, 13)\n",
            "Q4: Strong Buy (19, 8)\n"
          ]
        }
      ],
      "source": [
        "import pandas as pd\n",
        "import yfinance as yf\n",
        "import numpy as np\n",
        "\n",
        "# Define the stock symbol\n",
        "symbol = 'WIPRO.NS'\n",
        "print(symbol)\n",
        "# Fetch data from Yahoo Finance\n",
        "df = yf.download(symbol)\n",
        "\n",
        "# Create a column for quarters\n",
        "df['Quarter'] = df.index.to_period('Q')\n",
        "\n",
        "# Group by quarter and calculate the difference between the last and first day of the quarter\n",
        "quarterly_diff = df.groupby('Quarter')['Close'].apply(lambda x: x.iloc[-1] - x.iloc[0])\n",
        "\n",
        "# Count the number of positive and negative values for each quarter\n",
        "quarterly_counts = quarterly_diff.groupby(quarterly_diff.index.quarter).agg(['count', lambda x: (x > 0).sum(), lambda x: (x < 0).sum()])\n",
        "quarterly_counts.columns = ['Total', 'Positive', 'Negative']\n",
        "\n",
        "# Calculate the percentage of positive values for each quarter\n",
        "quarterly_counts['Positive Percentage'] = quarterly_counts['Positive'] / quarterly_counts['Total']\n",
        "\n",
        "# Create a column for the output based on the percentage of positive values\n",
        "conditions = [\n",
        "    (quarterly_counts['Positive Percentage'] > 0.67),\n",
        "    (quarterly_counts['Positive Percentage'] <= 0.67) & (quarterly_counts['Positive Percentage'] > 0.51),\n",
        "    (quarterly_counts['Positive Percentage'] <= 0.41),\n",
        "    (quarterly_counts['Positive Percentage'] > 0.41) & (quarterly_counts['Positive Percentage'] <= 0.51)\n",
        "]\n",
        "choices = ['Strong Buy', 'Weak Buy', 'Strong Sell', 'Weak Sell']\n",
        "quarterly_counts['Output'] = np.select(conditions, choices)\n",
        "\n",
        "# Print the final output\n",
        "for index, row in quarterly_counts.iterrows():\n",
        "    print(f\"Q{index}: {row['Output']} ({row['Positive']}, {row['Negative']})\")\n"
      ]
    },
    {
      "cell_type": "code",
      "source": [],
      "metadata": {
        "id": "8kiJR-gwzdFS"
      },
      "execution_count": null,
      "outputs": []
    }
  ]
}